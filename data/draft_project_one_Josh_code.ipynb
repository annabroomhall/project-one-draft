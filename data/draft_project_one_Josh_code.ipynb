{
 "cells": [
  {
   "cell_type": "code",
   "execution_count": null,
   "metadata": {},
   "outputs": [],
   "source": [
    "# Dependencies and Setup\n",
    "import pandas as pd\n",
    "import numpy as np\n",
    "import json as json\n",
    "import matplotlib.pyplot as plt\n",
    "\n",
    "# File to Load (Remember to Change These)\n",
    "crime_2018 = \"Resources/2018-19-data_sa_crime.csv\"\n",
    "crime_2019 = \"Resources/2019-20-fullyr-data_sa_crime (1).csv\"\n",
    "crime_2020 = \"Resources/2020-21_crime_qtr1_and_qtr2 (1).csv\"\n",
    "sa_postcodes = \"Resources/australian_postcodes (1).csv\"\n",
    "\n",
    "# Read data files and store into DataFrames\n",
    "crime_2018_df = pd.read_csv(crime_2018, parse_dates = ['Reported Date'])\n",
    "crime_2019_df = pd.read_csv(crime_2019, parse_dates = ['Reported Date'])\n",
    "crime_2020_df = pd.read_csv(crime_2020, parse_dates = ['Reported Date'])\n",
    "sa_postcodes_df = pd.read_csv(sa_postcodes)"
   ]
  },
  {
   "cell_type": "code",
   "execution_count": null,
   "metadata": {},
   "outputs": [],
   "source": [
    "#merging 4 crime datasets into a merged_data dataframe\n",
    "merged_data = pd.concat([crime_2018_df,crime_2019_df,crime_2020_df], ignore_index=True)"
   ]
  },
  {
   "cell_type": "code",
   "execution_count": null,
   "metadata": {},
   "outputs": [],
   "source": [
    "#cleaning merged_data dataframe and removing rows containing null values\n",
    "clean_crime_data = merged_data.dropna(how='any')"
   ]
  },
  {
   "cell_type": "code",
   "execution_count": null,
   "metadata": {},
   "outputs": [],
   "source": [
    "#renaming SA postcode set to allow merge on shared column\n",
    "sa_postcodes_df = sa_postcodes_df.rename(columns = {\"postcode\":\"Postcode - Incident\",\n",
    "                                                   'locality': \"Suburb - Incident\"})"
   ]
  },
  {
   "cell_type": "code",
   "execution_count": null,
   "metadata": {},
   "outputs": [],
   "source": [
    "#using loc function to remove any crimes listed against postcode \"NOT DISCLOSED\"\n",
    "clean_crime_data = clean_crime_data.loc[clean_crime_data[\"Postcode - Incident\"]!= \"NOT DISCLOSED\"].copy()"
   ]
  },
  {
   "cell_type": "code",
   "execution_count": null,
   "metadata": {},
   "outputs": [],
   "source": [
    "#changing datatype from object to integer to allow merge of two datasets\n",
    "clean_crime_data[\"Postcode - Incident\"] = clean_crime_data[\"Postcode - Incident\"].astype(str).astype(int)"
   ]
  },
  {
   "cell_type": "code",
   "execution_count": null,
   "metadata": {},
   "outputs": [],
   "source": [
    "#Check datatypes of clean_crime_data\n",
    "#clean_crime_data.dtypes"
   ]
  },
  {
   "cell_type": "code",
   "execution_count": null,
   "metadata": {},
   "outputs": [],
   "source": [
    "#Check datatypes of sa_postcodes_df\n",
    "#sa_postcodes_df.dtypes"
   ]
  },
  {
   "cell_type": "code",
   "execution_count": null,
   "metadata": {},
   "outputs": [],
   "source": [
    "#merge both datasets - using left join to drop any postcode data not associated with crimes in SA\n",
    "crime_postcode_merge_df = pd.merge(clean_crime_data, sa_postcodes_df, on = [\"Postcode - Incident\", \"Suburb - Incident\"], how = \"left\")"
   ]
  },
  {
   "cell_type": "code",
   "execution_count": null,
   "metadata": {},
   "outputs": [],
   "source": [
    "#review updated dataframe\n",
    "crime_postcode_merge_df.head()"
   ]
  },
  {
   "cell_type": "code",
   "execution_count": null,
   "metadata": {},
   "outputs": [],
   "source": [
    "crime_postcode_merge_df = crime_postcode_merge_df.drop(columns=['SA2_MAINCODE_2016', 'type', 'sa3', 'SA3_CODE_2016', \n",
    "                                      'SA1_MAINCODE_2011', 'id', 'SA1_MAINCODE_2016',\n",
    "                                      'SA4_CODE_2016','RA_2011','RA_2016','MMM_2015','MMM_2019',\n",
    "                                      'status','sa4','state'])"
   ]
  },
  {
   "cell_type": "code",
   "execution_count": null,
   "metadata": {
    "scrolled": true
   },
   "outputs": [],
   "source": [
    "crime_postcode_merge_df.head()"
   ]
  },
  {
   "cell_type": "code",
   "execution_count": null,
   "metadata": {},
   "outputs": [],
   "source": [
    "date_breakdown_df = crime_postcode_merge_df.drop(columns=['SA4_NAME_2016', 'SA3_NAME_2016', 'SA2_NAME_2016', 'Long_precise',\n",
    "                                                         'Lat_precise', 'region', 'sa4name', 'sa3name', 'dc', 'lat', 'long',\n",
    "                                                         'Suburb - Incident', 'Postcode - Incident', 'Offence Level 1 Description',\n",
    "                                                         'Offence Level 2 Description', 'Offence Level 3 Description'])\n",
    "\n",
    "date_breakdown_df.head()"
   ]
  },
  {
   "cell_type": "code",
   "execution_count": null,
   "metadata": {},
   "outputs": [],
   "source": [
    "date_breakdown_df['Reported Date'] = pd.to_datetime(date_breakdown_df['Reported Date']) \n",
    "\n",
    "crime_data_2019_start = date_breakdown_df.loc[date_breakdown_df['Reported Date'] >= '2019/01/01']"
   ]
  },
  {
   "cell_type": "code",
   "execution_count": null,
   "metadata": {},
   "outputs": [],
   "source": [
    "crime_data_2019_all = crime_data_2019_start.loc[date_breakdown_df['Reported Date'] <= '2019/12/31']"
   ]
  },
  {
   "cell_type": "code",
   "execution_count": null,
   "metadata": {},
   "outputs": [],
   "source": [
    "#crime_data_2019_all.head()\n",
    "\n",
    "crime_data_2019_all['Month'] = crime_data_2019_all['Reported Date'].dt.month\n",
    "\n",
    "crime_data_2019_all"
   ]
  },
  {
   "cell_type": "code",
   "execution_count": null,
   "metadata": {},
   "outputs": [],
   "source": [
    "#making 2020 DF\n",
    "\n",
    "crime_data_2020_start = date_breakdown_df.loc[date_breakdown_df['Reported Date'] >= '2020/01/01']"
   ]
  },
  {
   "cell_type": "code",
   "execution_count": null,
   "metadata": {},
   "outputs": [],
   "source": [
    "crime_data_2020_all = crime_data_2020_start.loc[date_breakdown_df['Reported Date'] <= '2020/12/31']\n",
    "\n",
    "\n",
    "crime_data_2020_all['Month'] = crime_data_2020_all['Reported Date'].dt.month\n",
    "\n",
    "crime_data_2020_all"
   ]
  },
  {
   "cell_type": "code",
   "execution_count": null,
   "metadata": {},
   "outputs": [],
   "source": [
    "# I now have the data in 2019 (crime_data_2019_all) in one DF and 2020 (crime_data_2020_all) in another "
   ]
  },
  {
   "cell_type": "code",
   "execution_count": null,
   "metadata": {},
   "outputs": [],
   "source": [
    "grouped_2019_crime = crime_data_2019_all.groupby(['Month'])['Offence count'].count().reset_index()\n",
    "grouped_2020_crime = crime_data_2020_all.groupby(['Month'])['Offence count'].count().reset_index()"
   ]
  },
  {
   "cell_type": "code",
   "execution_count": null,
   "metadata": {},
   "outputs": [],
   "source": [
    "grouped_2019_crime"
   ]
  },
  {
   "cell_type": "code",
   "execution_count": null,
   "metadata": {},
   "outputs": [],
   "source": [
    "ax = grouped_2019_crime.plot(kind = 'line', x = 'Month', y = 'Offence count', label = '2019 Crime', figsize = (10, 5))\n",
    "grouped_2020_crime.plot(kind = 'line', x = 'Month', y = 'Offence count', color ='red', xlabel = \"Month of the Year\", ylabel = 'Offence Count', label = '2020 Crime', ax= ax)\n",
    "ax.legend()\n",
    "ax.set_xticks(np.arange(1, 12+1, 1))\n",
    "plt.grid()\n",
    "plt.show()"
   ]
  },
  {
   "cell_type": "code",
   "execution_count": null,
   "metadata": {},
   "outputs": [],
   "source": []
  }
 ],
 "metadata": {
  "kernelspec": {
   "display_name": "Python 3",
   "language": "python",
   "name": "python3"
  },
  "language_info": {
   "codemirror_mode": {
    "name": "ipython",
    "version": 3
   },
   "file_extension": ".py",
   "mimetype": "text/x-python",
   "name": "python",
   "nbconvert_exporter": "python",
   "pygments_lexer": "ipython3",
   "version": "3.8.5"
  }
 },
 "nbformat": 4,
 "nbformat_minor": 4
}
